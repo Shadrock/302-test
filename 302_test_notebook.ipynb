{
  "nbformat": 4,
  "nbformat_minor": 0,
  "metadata": {
    "colab": {
      "name": "302_test_notebook.ipynb",
      "provenance": [],
      "authorship_tag": "ABX9TyPK2qPUHdJsOR9PsbN50jBg",
      "include_colab_link": true
    },
    "kernelspec": {
      "name": "python3",
      "display_name": "Python 3"
    }
  },
  "cells": [
    {
      "cell_type": "markdown",
      "metadata": {
        "id": "view-in-github",
        "colab_type": "text"
      },
      "source": [
        "<a href=\"https://colab.research.google.com/github/Shadrock/302-test/blob/master/302_test_notebook.ipynb\" target=\"_parent\"><img src=\"https://colab.research.google.com/assets/colab-badge.svg\" alt=\"Open In Colab\"/></a>"
      ]
    },
    {
      "cell_type": "markdown",
      "metadata": {
        "id": "Mf_hgDE_i2Qt",
        "colab_type": "text"
      },
      "source": [
        "# Test Notebook\n",
        "This is a test. \n"
      ]
    },
    {
      "cell_type": "code",
      "metadata": {
        "id": "YikN3_T6XmNg",
        "colab_type": "code",
        "colab": {
          "base_uri": "https://localhost:8080/",
          "height": 34
        },
        "outputId": "6b4a2599-bc86-4153-cece-7fc12e1a3e05"
      },
      "source": [
        "message = \"some string value\"\n",
        "print(message)"
      ],
      "execution_count": 1,
      "outputs": [
        {
          "output_type": "stream",
          "text": [
            "some string value\n"
          ],
          "name": "stdout"
        }
      ]
    },
    {
      "cell_type": "code",
      "metadata": {
        "id": "F3trgqhzbSb2",
        "colab_type": "code",
        "colab": {}
      },
      "source": [
        "message = \"something else\""
      ],
      "execution_count": 2,
      "outputs": []
    },
    {
      "cell_type": "code",
      "metadata": {
        "id": "lywc7roebSzn",
        "colab_type": "code",
        "colab": {
          "base_uri": "https://localhost:8080/",
          "height": 34
        },
        "outputId": "ce959d83-fd1c-4bd9-a9b1-58cdb9780ff5"
      },
      "source": [
        "print(message)"
      ],
      "execution_count": 3,
      "outputs": [
        {
          "output_type": "stream",
          "text": [
            "something else\n"
          ],
          "name": "stdout"
        }
      ]
    }
  ]
}